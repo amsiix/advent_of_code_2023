{
 "cells": [
  {
   "cell_type": "markdown",
   "metadata": {},
   "source": [
    "--- Day 3: Gear Ratios ---\n",
    "\n",
    "You and the Elf eventually reach a gondola lift station; he says\n",
    "the gondola lift will take you up to the water source, but this\n",
    "is as far as he can bring you. You go inside.\n",
    "\n",
    "It doesn't take long to find the gondolas, but there seems to be\n",
    "a problem: they're not moving.\n",
    "\n",
    "\"Aaah!\"\n",
    "\n",
    "You turn around to see a slightly-greasy Elf with a wrench and a\n",
    "look of surprise. \"Sorry, I wasn't expecting anyone! The gondola\n",
    "lift isn't working right now; it'll still be a while before I can\n",
    "fix it.\" You offer to help.\n",
    "\n",
    "The engineer explains that an engine part seems to be missing from\n",
    "the engine, but nobody can figure out which one. If you can add up\n",
    "all the part numbers in the engine schematic, it should be easy to\n",
    "work out which part is missing.\n",
    "\n",
    "The engine schematic (your puzzle input) consists of a visual\n",
    "representation of the engine. There are lots of numbers and\n",
    "symbols you don't really understand, but apparently any number\n",
    "adjacent to a symbol, even diagonally, is a \"part number\" and\n",
    "should be included in your sum. (Periods (.) do not count as a\n",
    "symbol.)\n",
    "\n",
    "Here is an example engine schematic:\n",
    "\n",
    "```\n",
    "467..114..\n",
    "...*......\n",
    "..35..633.\n",
    "......#...\n",
    "617*......\n",
    ".....+.58.\n",
    "..592.....\n",
    "......755.\n",
    "...$.*....\n",
    ".664.598..\n",
    "```\n",
    "\n",
    "In this schematic, two numbers are not part numbers because they\n",
    "are not adjacent to a symbol: 114 (top right) and 58 (middle\n",
    "right). Every other number is adjacent to a symbol and so is a\n",
    "part number; their sum is 4361.\n",
    "\n",
    "Of course, the actual engine schematic is much larger. What is\n",
    "the sum of all of the part numbers in the engine schematic?\n",
    "\n",
    "To begin, get your puzzle input.\n",
    "\n",
    "Answer: "
   ]
  },
  {
   "cell_type": "code",
   "execution_count": 303,
   "metadata": {},
   "outputs": [],
   "source": [
    "import re\n",
    "\n",
    "data_example = [\n",
    "    \"467..114..\",\n",
    "    \"...*......\",\n",
    "    \"..35..633.\",\n",
    "    \"......#...\",\n",
    "    \"617*......\",\n",
    "    \".....+.58.\",\n",
    "    \"..592.....\",\n",
    "    \"......755.\",\n",
    "    \"...$.*....\",\n",
    "    \".664.598..\"\n",
    "]\n",
    "\n",
    "\n",
    "data_example_2 = [\n",
    "\"12.......*..\",\n",
    "\"+.........34\",\n",
    "\".......-12..\",\n",
    "\"..78........\",\n",
    "\"..*....60...\",\n",
    "\"78..........\",\n",
    "\".......23...\",\n",
    "\"....90*12...\",\n",
    "\"............\",\n",
    "\"2.2......12.\",\n",
    "\".*.........*\",\n",
    "\"1.1.......56\"]\n",
    "\n",
    "true_data = [line.strip() for line in open(\"../data/aoc_2023_data_03.txt\", 'r')]\n",
    "\n",
    "data = true_data\n",
    "\n",
    "# First, we'll determine the line numbers and positions of the symbols.\n",
    "# A symbol is not a digit, and not a period.\n",
    "\n",
    "\n",
    "\n",
    "# fint the list of symbols.\n",
    "# The symbols are not digits, and not periods.\n",
    "\n",
    "symbols = \"[^0-9.]\"\n",
    "\n",
    "symbol_positions = []\n",
    "for line_number, line in enumerate(data):\n",
    "    for match in re.finditer(symbols, line):\n",
    "        symbol_positions.append((line_number, match.start()))\n",
    "\n"
   ]
  },
  {
   "cell_type": "code",
   "execution_count": 304,
   "metadata": {},
   "outputs": [],
   "source": [
    "# Now, let's read the numbers, their lines and starting positions\n",
    "\n",
    "numbers = []\n",
    "for line_number, line in enumerate(data):\n",
    "    for match in re.finditer(\"[0-9]+\", line):\n",
    "        numbers.append((line_number, match.start(), match.start() + len(match.group())-1, int(match.group())))\n",
    "\n"
   ]
  },
  {
   "cell_type": "code",
   "execution_count": 305,
   "metadata": {},
   "outputs": [],
   "source": [
    "# We get the cross product between symbol positions and found numbers\n",
    "all_combinations = [(a,b) for a in symbol_positions for b in numbers ]\n",
    "\n",
    "# We only consider those numbers that are within one position of the symbol position.\n",
    "# a[0], a[1] is the line and columns of the symbol, \n",
    "# b[0], b[1], b[2] is the line, start and end position of the number.\n",
    "\n",
    "feasible_part_numbers = [ \n",
    "    (a, b) for a,b in all_combinations \n",
    "        if (b[0] >= a[0]-1 and b[0] <= a[0]+1) \n",
    "                and (b[1] <= a[1]+1 and b[1] >= a[1]-1 \n",
    "                        or b[2] <= a[1]+1 and b[2] >= a[1]-1) ]\n",
    "\n"
   ]
  },
  {
   "cell_type": "code",
   "execution_count": 306,
   "metadata": {},
   "outputs": [
    {
     "data": {
      "text/plain": [
       "549908"
      ]
     },
     "execution_count": 306,
     "metadata": {},
     "output_type": "execute_result"
    }
   ],
   "source": [
    "# Let's sum the feasible part number, but only distinct values\n",
    "sum([b[3] for a,b in feasible_part_numbers])"
   ]
  },
  {
   "cell_type": "markdown",
   "metadata": {},
   "source": [
    "## --- Part Two ---\n",
    "\n",
    "The engineer finds the missing part and installs it in the engine!\n",
    "As the engine springs to life, you jump in the closest gondola,\n",
    "finally ready to ascend to the water source.\n",
    "\n",
    "You don't seem to be going very fast, though. Maybe something is\n",
    "still wrong? Fortunately, the gondola has a phone labeled \"help\",\n",
    "so you pick it up and the engineer answers.\n",
    "\n",
    "Before you can explain the situation, she suggests that you look\n",
    "out the window. There stands the engineer, holding a phone in one\n",
    "hand and waving with the other. You're going so slowly that you\n",
    "haven't even left the station. You exit the gondola.\n",
    "\n",
    "The missing part wasn't the only issue - one of the gears in the\n",
    "engine is wrong. A gear is any * symbol that is adjacent to\n",
    "exactly two part numbers. Its gear ratio is the result of\n",
    "multiplying those two numbers together.\n",
    "\n",
    "This time, you need to find the gear ratio of every gear and add\n",
    "them all up so that the engineer can figure out which gear needs\n",
    "to be replaced.\n",
    "\n",
    "Consider the same engine schematic again:\n",
    "\n",
    "```\n",
    "467..114..\n",
    "...*......\n",
    "..35..633.\n",
    "......#...\n",
    "617*......\n",
    ".....+.58.\n",
    "..592.....\n",
    "......755.\n",
    "...$.*....\n",
    ".664.598..\n",
    "```\n",
    "\n",
    "In this schematic, there are two gears. The first is in the top left;\n",
    "it has part numbers 467 and 35, so its gear ratio is 16345. The second\n",
    "gear is in the lower right; its gear ratio is 451490. (The * adjacent\n",
    "to 617 is not a gear because it is only adjacent to one part number.)\n",
    "\n",
    "Adding up all of the gear ratios produces 467835.\n",
    "\n",
    "What is the sum of all of the gear ratios in your engine schematic?\n"
   ]
  },
  {
   "cell_type": "code",
   "execution_count": 307,
   "metadata": {},
   "outputs": [],
   "source": [
    "# We actually need to see which * symbols have more than one part number associated\n",
    "\n",
    "\n",
    "# the gear symbol is a \"*\" character, so we need to escape it\n",
    "gear_symbol = \"\\*\"\n",
    "\n",
    "gear_positions = []\n",
    "for line_number, line in enumerate(data):\n",
    "    for match in re.finditer(gear_symbol, line):\n",
    "        gear_positions.append((line_number, match.start()))\n",
    "\n"
   ]
  },
  {
   "cell_type": "markdown",
   "metadata": {},
   "source": []
  },
  {
   "cell_type": "code",
   "execution_count": 308,
   "metadata": {},
   "outputs": [],
   "source": [
    "# We get the cross product between gear positions and found numbers\n",
    "all_combinations2 = [(a,b) for a in gear_positions for b in numbers ]\n",
    "\n",
    "# We only consider those numbers that are within one position of the symbol position.\n",
    "# a[0], a[1] is the line and columns of the symbol, \n",
    "# b[0], b[1], b[2] is the line, start and end position of the number.\n",
    "\n",
    "feasible_part_numbers2 = [ \n",
    "    (a, b) for a,b in all_combinations2 \n",
    "        if (b[0] >= a[0]-1 and b[0] <= a[0]+1) \n",
    "                and (b[1] <= a[1]+1 and b[1] >= a[1]-1 \n",
    "                        or b[2] <= a[1]+1 and b[2] >= a[1]-1) ]\n"
   ]
  },
  {
   "cell_type": "code",
   "execution_count": 309,
   "metadata": {},
   "outputs": [],
   "source": [
    "# We need to count the number of instances in feasible_part_numbers2, that has mor than one instance\n",
    "# regardless of part number\n",
    "\n",
    "gear_values = {}\n",
    "for fp in feasible_part_numbers2:\n",
    "    if fp[0] in gear_values:\n",
    "        gear_values[fp[0]].append(fp[1][3])\n",
    "    else:\n",
    "        gear_values[fp[0]] = [fp[1][3]]\n"
   ]
  },
  {
   "cell_type": "code",
   "execution_count": 310,
   "metadata": {},
   "outputs": [
    {
     "data": {
      "text/plain": [
       "81166799"
      ]
     },
     "execution_count": 310,
     "metadata": {},
     "output_type": "execute_result"
    }
   ],
   "source": [
    "sum([ gear_values[g][0] * gear_values[g][1] for g in gear_values.keys() if len(gear_values[g]) == 2])"
   ]
  },
  {
   "cell_type": "markdown",
   "metadata": {},
   "source": [
    "**Answer: 81166799**\n",
    "\n",
    "That's the right answer! You are one gold star closer to restoring snow operations.\n",
    "\n",
    "You have completed Day 3!"
   ]
  },
  {
   "cell_type": "markdown",
   "metadata": {},
   "source": []
  }
 ],
 "metadata": {
  "kernelspec": {
   "display_name": "Python 3",
   "language": "python",
   "name": "python3"
  },
  "language_info": {
   "codemirror_mode": {
    "name": "ipython",
    "version": 3
   },
   "file_extension": ".py",
   "mimetype": "text/x-python",
   "name": "python",
   "nbconvert_exporter": "python",
   "pygments_lexer": "ipython3",
   "version": "3.10.13"
  }
 },
 "nbformat": 4,
 "nbformat_minor": 2
}
