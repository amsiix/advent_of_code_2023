{
 "cells": [
  {
   "cell_type": "markdown",
   "metadata": {},
   "source": [
    "#  Day 4: Scratchcards ---\n",
    "\n",
    "The gondola takes you up. Strangely, though, the ground doesn't\n",
    "seem to be coming with you; you're not climbing a mountain. As\n",
    "the circle of Snow Island recedes below you, an entire new\n",
    "landmass suddenly appears above you! The gondola carries you to\n",
    "the surface of the new island and lurches into the station.\n",
    "\n",
    "As you exit the gondola, the first thing you notice is that the\n",
    "air here is much warmer than it was on Snow Island. It's also\n",
    "quite humid. Is this where the water source is?\n",
    "\n",
    "The next thing you notice is an Elf sitting on the floor across\n",
    "the station in what seems to be a pile of colorful square cards.\n",
    "\n",
    "\"Oh! Hello!\" The Elf excitedly runs over to you. \"How may I be\n",
    "of service?\" You ask about water sources.\n",
    "\n",
    "\"I'm not sure; I just operate the gondola lift. That does sound\n",
    "like something we'd have, though - this is Island Island, after\n",
    "all! I bet the gardener would know. He's on a different island,\n",
    "though - er, the small kind surrounded by water, not the floating\n",
    "kind. We really need to come up with a better naming scheme. Tell\n",
    "you what: if you can help me with something quick, I'll let you\n",
    "borrow my boat and you can go visit the gardener. I got all these\n",
    "scratchcards as a gift, but I can't figure out what I've won.\"\n",
    "\n",
    "The Elf leads you over to the pile of colorful cards. There, you\n",
    "discover dozens of scratchcards, all with their opaque covering\n",
    "already scratched off. Picking one up, it looks like each card\n",
    "has two lists of numbers separated by a vertical bar (|): a list\n",
    "of winning numbers and then a list of numbers you have. You\n",
    "organize the information into a table (your puzzle input).\n",
    "\n",
    "As far as the Elf has been able to figure out, you have to figure\n",
    "out which of the numbers you have appear in the list of winning\n",
    "numbers. The first match makes the card worth one point and each\n",
    "match after the first doubles the point value of that card.\n",
    "\n",
    "For example:\n",
    "\n",
    "```\n",
    "Card 1: 41 48 83 86 17 | 83 86  6 31 17  9 48 53\n",
    "Card 2: 13 32 20 16 61 | 61 30 68 82 17 32 24 19\n",
    "Card 3:  1 21 53 59 44 | 69 82 63 72 16 21 14  1\n",
    "Card 4: 41 92 73 84 69 | 59 84 76 51 58  5 54 83\n",
    "Card 5: 87 83 26 28 32 | 88 30 70 12 93 22 82 36\n",
    "Card 6: 31 18 13 56 72 | 74 77 10 23 35 67 36 11\n",
    "```\n",
    "\n",
    "In the above example, card 1 has five winning numbers\n",
    "`(41, 48, 83, 86, and 17)` and eight numbers you have \n",
    "`(83, 86, 6, 31, 17, 9, 48, and 53)`. \n",
    "\n",
    "Of the numbers you have, four of them `(48, 83, 17, and 86)`\n",
    "are winning numbers! That means card 1 is worth 8 points\n",
    "(1 for the first match, then doubled three times for each of\n",
    "the three matches after the first).\n",
    "\n",
    "Card 2 has two winning numbers (32 and 61), so it is worth\n",
    "2 points.  \n",
    "Card 3 has two winning numbers (1 and 21), so it is worth  \n",
    "2 points.\n",
    "Card 4 has one winning number (84), so it is worth 1 point.  \n",
    "Card 5 has no winning numbers, so it is worth no points.  \n",
    "Card 6 has no winning numbers, so it is worth no points.  \n",
    "\n",
    "So, in this example, the Elf's pile of scratchcards is worth\n",
    "13 points.\n",
    "\n",
    "Take a seat in the large pile of colorful cards. How many points are\n",
    "they worth in total?\n",
    "\n",
    "To begin, get your puzzle input.\n",
    "\n",
    "Answer:"
   ]
  },
  {
   "cell_type": "code",
   "execution_count": 52,
   "metadata": {},
   "outputs": [],
   "source": [
    "example_data = [\n",
    "\"Card 1: 41 48 83 86 17 | 83 86  6 31 17  9 48 53\",\n",
    "\"Card 2: 13 32 20 16 61 | 61 30 68 82 17 32 24 19\",\n",
    "\"Card 3:  1 21 53 59 44 | 69 82 63 72 16 21 14  1\",\n",
    "\"Card 4: 41 92 73 84 69 | 59 84 76 51 58  5 54 83\",\n",
    "\"Card 5: 87 83 26 28 32 | 88 30 70 12 93 22 82 36\",\n",
    "\"Card 6: 31 18 13 56 72 | 74 77 10 23 35 67 36 11\"\n",
    "]\n",
    "\n",
    "true_data = [line.strip() for line in open(\"../data/aoc_2023_data_04.txt\", 'r')]\n",
    "\n",
    "data = true_data"
   ]
  },
  {
   "cell_type": "code",
   "execution_count": 57,
   "metadata": {},
   "outputs": [
    {
     "data": {
      "text/plain": [
       "23673"
      ]
     },
     "execution_count": 57,
     "metadata": {},
     "output_type": "execute_result"
    }
   ],
   "source": [
    "\n",
    "card_data = {}\n",
    "for line in data:\n",
    "    game = int(line.split(\":\")[0].replace(\"Card \", \"\"))\n",
    "    winning_numbers  = set(sorted(line.split(\":\")[1].split(\"|\")[0].split()))\n",
    "    played_numbers = set(sorted(line.split(\":\")[1].split(\"|\")[1].split()))\n",
    "\n",
    "    match_num = len(winning_numbers.intersection(played_numbers))\n",
    "    card_data[game] = match_num\n",
    "\n",
    "\n",
    "sum([2**(n[1]-1) if n[1] > 0 else 0 for n in card_data.items()])"
   ]
  },
  {
   "cell_type": "markdown",
   "metadata": {},
   "source": [
    "**Answer: 23673**\n",
    "\n",
    "That's the right answer! You are one gold star closer to restoring snow operations. "
   ]
  },
  {
   "cell_type": "markdown",
   "metadata": {},
   "source": [
    "## --- Part Two ---\n",
    "\n",
    "Just as you're about to report your findings to the Elf,\n",
    "one of you realizes that the rules have actually been printed\n",
    "on the back of every card this whole time.\n",
    "\n",
    "There's no such thing as \"points\". Instead, scratchcards only\n",
    "cause you to win more scratchcards equal to the number of\n",
    "winning numbers you have.\n",
    "\n",
    "Specifically, you win copies of the scratchcards below the winning\n",
    "card equal to the number of matches. So, if card 10 were to have 5\n",
    "matching numbers, you would win one copy each of cards 11, 12, 13,\n",
    "14, and 15.\n",
    "\n",
    "Copies of scratchcards are scored like normal scratchcards and have\n",
    "the same card number as the card they copied. So, if you win a copy\n",
    "of card 10 and it has 5 matching numbers, it would then win a copy\n",
    "of the same cards that the original card 10 won: cards 11, 12, 13,\n",
    "14, and 15. This process repeats until none of the copies cause you\n",
    "to win any more cards. (Cards will never make you copy a card past\n",
    "the end of the table.)\n",
    "\n",
    "This time, the above example goes differently:\n",
    "\n",
    "```\n",
    "Card 1: 41 48 83 86 17 | 83 86  6 31 17  9 48 53\n",
    "Card 2: 13 32 20 16 61 | 61 30 68 82 17 32 24 19\n",
    "Card 3:  1 21 53 59 44 | 69 82 63 72 16 21 14  1\n",
    "Card 4: 41 92 73 84 69 | 59 84 76 51 58  5 54 83\n",
    "Card 5: 87 83 26 28 32 | 88 30 70 12 93 22 82 36\n",
    "Card 6: 31 18 13 56 72 | 74 77 10 23 35 67 36 11\n",
    "```\n",
    "\n",
    "    Card 1 has four matching numbers, so you win one copy each of\n",
    "    the next four cards: cards 2, 3, 4, and 5.  \n",
    "    Your original card 2 has two matching numbers, so you win one\n",
    "    copy each of cards 3 and 4.  \n",
    "    Your copy of card 2 also wins one copy each of cards 3 and 4.  \n",
    "    Your four instances of card 3 (one original and three copies)\n",
    "    have two matching numbers, so you win four copies each of cards\n",
    "    4 and 5.  \n",
    "    Your eight instances of card 4 (one original and seven copies)\n",
    "    have one matching number, so you win eight copies of card 5.  \n",
    "    Your fourteen instances of card 5 (one original and thirteen\n",
    "    copies) have no matching numbers and win no more cards.  \n",
    "    Your one instance of card 6 (one original) has no matching numbers\n",
    "    and wins no more cards.  \n",
    "\n",
    "Once all of the originals and copies have been processed, you end up with\n",
    "1 instance of card 1, 2 instances of card 2, 4 instances of card 3, 8\n",
    "instances of card 4, 14 instances of card 5, and 1 instance of card 6.\n",
    "\n",
    "In total, this example pile of scratchcards causes you to ultimately\n",
    "have 30 scratchcards!\n",
    "\n",
    "Process all of the original and copied scratchcards until no more\n",
    "scratchcards are won. Including the original set of scratchcards, how\n",
    "many total scratchcards do you end up with?\n",
    "\n",
    "Answer: "
   ]
  },
  {
   "cell_type": "code",
   "execution_count": 54,
   "metadata": {},
   "outputs": [
    {
     "data": {
      "text/plain": [
       "12263631"
      ]
     },
     "execution_count": 54,
     "metadata": {},
     "output_type": "execute_result"
    }
   ],
   "source": [
    "new_cards = { k:0 for k in range(1,len(data)+1)}\n",
    "\n",
    "for game in card_data.keys():\n",
    "\n",
    "    match_num = card_data[game]\n",
    "    \n",
    "    # Add original card\n",
    "    new_cards[game] += 1\n",
    "\n",
    "    # For the subsequent cards, we need to add additional copies\n",
    "    add_value = new_cards[game]\n",
    "    \n",
    "    # Only add copies for subsequent cards if the current card has matches\n",
    "    if match_num:\n",
    "        # For\n",
    "        for g in range(game + 1, game + match_num + 1):\n",
    "            new_cards[g] += add_value\n",
    "\n",
    "sum([new_cards[x] for x in new_cards.keys()])\n",
    "\n"
   ]
  },
  {
   "cell_type": "markdown",
   "metadata": {},
   "source": [
    "** Answer: 12263631**\n",
    "\n",
    "That's the right answer! You are one gold star closer to restoring snow operations.\n",
    "\n",
    "You have completed Day 4!len(data)"
   ]
  }
 ],
 "metadata": {
  "kernelspec": {
   "display_name": "Python 3",
   "language": "python",
   "name": "python3"
  },
  "language_info": {
   "codemirror_mode": {
    "name": "ipython",
    "version": 3
   },
   "file_extension": ".py",
   "mimetype": "text/x-python",
   "name": "python",
   "nbconvert_exporter": "python",
   "pygments_lexer": "ipython3",
   "version": "3.10.13"
  }
 },
 "nbformat": 4,
 "nbformat_minor": 2
}
