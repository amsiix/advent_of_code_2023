{
 "cells": [
  {
   "cell_type": "markdown",
   "metadata": {},
   "source": [
    "--- Day 1: Trebuchet?! ---\n",
    "\n",
    "Something is wrong with global snow production, and you've been selected to take a look. The Elves have even given you a map; on it, they've used stars to mark the top fifty locations that are likely to be having problems.\n",
    "\n",
    "You've been doing this long enough to know that to restore snow operations, you need to check all fifty stars by December 25th.\n",
    "\n",
    "Collect stars by solving puzzles. Two puzzles will be made available on each day in the Advent calendar; the second puzzle is unlocked when you complete the first. Each puzzle grants one star. Good luck!\n",
    "\n",
    "You try to ask why they can't just use a weather machine (\"not powerful enough\") and where they're even sending you (\"the sky\") and why your map looks mostly blank (\"you sure ask a lot of questions\") and hang on did you just say the sky (\"of course, where do you think snow comes from\") when you realize that the Elves are already loading you into a trebuchet (\"please hold still, we need to strap you in\").\n",
    "\n",
    "As they're making the final adjustments, they discover that their calibration document (your puzzle input) has been amended by a very young Elf who was apparently just excited to show off her art skills. Consequently, the Elves are having trouble reading the values on the document.\n",
    "\n",
    "The newly-improved calibration document consists of lines of text; each line originally contained a specific calibration value that the Elves now need to recover. On each line, the calibration value can be found by combining the first digit and the last digit (in that order) to form a single two-digit number.\n",
    "\n",
    "For example:\n",
    "\n",
    "```\n",
    "1abc2\n",
    "pqr3stu8vwx\n",
    "a1b2c3d4e5f\n",
    "treb7uchet\n",
    "```\n",
    "\n",
    "In this example, the calibration values of these four lines are 12, 38, 15, and 77. Adding these together produces 142.\n",
    "\n",
    "Consider your entire calibration document. What is the sum of all of the calibration values?"
   ]
  },
  {
   "cell_type": "code",
   "execution_count": 1,
   "metadata": {},
   "outputs": [
    {
     "data": {
      "text/plain": [
       "54390"
      ]
     },
     "execution_count": 1,
     "metadata": {},
     "output_type": "execute_result"
    }
   ],
   "source": [
    "# import the regular expression library\n",
    "import re\n",
    "\n",
    "# Read the input file from data/aoc_2023_data_01.txt\n",
    "with open(\"../data/aoc_2023_data_01.txt\") as f:\n",
    "    data = f.read().splitlines()\n",
    "\n",
    "# for each entry in data, remove the [A-Z] and [a-z] characters\n",
    "# and convert the remaining string to an integer\n",
    "\n",
    "data2 = [re.sub('[A-Za-z]', '', s)for s in data]\n",
    "\n",
    "# When the length of the string is greater than 1, then read only first and last\n",
    "# character. Otherwise, for length 1, read only repeat the character twice.\n",
    "# Convert to Integer\n",
    "data3 = [int(s[0]+s[-1]) if len(s)>1 else int(s*2) for s in data2]\n",
    "\n",
    "sum(data3)"
   ]
  },
  {
   "cell_type": "markdown",
   "metadata": {},
   "source": [
    "## **Your puzzle answer was: 54390**"
   ]
  },
  {
   "cell_type": "markdown",
   "metadata": {},
   "source": [
    "--- Part Two ---\n",
    "Your calculation isn't quite right. It looks like some of the digits are actually spelled out with letters: one, two, three, four, five, six, seven, eight, and nine also count as valid \"digits\".\n",
    "\n",
    "Equipped with this new information, you now need to find the real first and last digit on each line. For example:\n",
    "\n",
    "two1nine\n",
    "eightwothree\n",
    "abcone2threexyz\n",
    "xtwone3four\n",
    "4nineeightseven2\n",
    "zoneight234\n",
    "7pqrstsixteen\n",
    "In this example, the calibration values are 29, 83, 13, 24, 42, 14, and 76. Adding these together produces 281.\n",
    "\n",
    "What is the sum of all of the calibration values?\n",
    "\n",
    "Your puzzle answer was 54277.\n",
    "\n",
    "Both parts of this puzzle are complete! They provide two gold stars: **"
   ]
  },
  {
   "cell_type": "code",
   "execution_count": 2,
   "metadata": {},
   "outputs": [
    {
     "name": "stdout",
     "output_type": "stream",
     "text": [
      "54277\n"
     ]
    }
   ],
   "source": [
    "# For the data list, convert the strings \"zero\", \"one\", \"two\", ..., \"nine\"\n",
    "# to their corresponding digit characters.\n",
    "\n",
    "digits_hash = {\"one\": \"1\", \"two\": \"2\", \"three\": \"3\", \"four\": \"4\",\n",
    "                \"five\": \"5\", \"six\": \"6\", \"seven\": \"7\", \"eight\": \"8\", \"nine\": \"9\"}\n",
    "\n",
    "# For each entry in data, replace the digit words with their corresponding digit\n",
    "# characters. Use lookahead to make sure that digit numbers with shared characters\n",
    "# are recognized\n",
    "\n",
    "# The matchobj.group() has to have the 1 argument, otherwise it will return the\n",
    "# entire match object, because want it to return only the matched string.\n",
    "\n",
    "data2b = [re.sub(\"(?=(\"+'|'.join(digits_hash.keys())+\"))\", lambda m: digits_hash[m.group(1)], s) for s in data]\n",
    "data2c = [re.sub('[A-Za-z]', '', s)for s in data2b]\n",
    "data2d = [int(s[0]+s[-1]) if len(s)>1 else int(s*2) for s in data2c]\n",
    "\n",
    "print(sum(data2d))"
   ]
  },
  {
   "cell_type": "code",
   "execution_count": 3,
   "metadata": {},
   "outputs": [
    {
     "name": "stdout",
     "output_type": "stream",
     "text": [
      "281\n"
     ]
    },
    {
     "data": {
      "text/plain": [
       "['2two19nine',\n",
       " '8eigh2two3three',\n",
       " 'abc1one23threexyz',\n",
       " 'x2tw1one34four',\n",
       " '49nine8eight7seven2',\n",
       " 'z1on8eight234',\n",
       " '7pqrst6sixteen']"
      ]
     },
     "execution_count": 3,
     "metadata": {},
     "output_type": "execute_result"
    }
   ],
   "source": [
    "data_example = [\"two1nine\", \"eightwothree\",\"abcone2threexyz\",\"xtwone3four\",\"4nineeightseven2\",\"zoneight234\",\"7pqrstsixteen\"]\n",
    "print(sum(\n",
    "    [int(s[0]+s[-1]) if len(s)>1 else int(s*2) for s in \n",
    "        [re.sub('[A-Za-z]', '', s) for s in \n",
    "            [re.sub(\"(?=(\"+'|'.join(digits_hash.keys())+\"))\", lambda m: digits_hash[m.group(1)], s) for s in data_example]\n",
    "            ]]))\n",
    "\n",
    "\n",
    "[re.sub(\"(?=(\"+'|'.join(digits_hash.keys())+\"))\", lambda m: digits_hash[m.group(1)], s) for s in data_example]"
   ]
  },
  {
   "cell_type": "markdown",
   "metadata": {},
   "source": [
    "## **Answer: 54277**"
   ]
  },
  {
   "cell_type": "markdown",
   "metadata": {},
   "source": [
    "## **That's the right answer! You are one gold star closer to restoring snow operations.**\n",
    "\n",
    "### You have completed Day 1! "
   ]
  }
 ],
 "metadata": {
  "kernelspec": {
   "display_name": "Python 3",
   "language": "python",
   "name": "python3"
  },
  "language_info": {
   "codemirror_mode": {
    "name": "ipython",
    "version": 3
   },
   "file_extension": ".py",
   "mimetype": "text/x-python",
   "name": "python",
   "nbconvert_exporter": "python",
   "pygments_lexer": "ipython3",
   "version": "3.10.13"
  }
 },
 "nbformat": 4,
 "nbformat_minor": 2
}
